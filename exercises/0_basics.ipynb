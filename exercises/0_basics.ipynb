{
 "cells": [
  {
   "cell_type": "markdown",
   "id": "6c816f33-764d-4716-8cd4-3dfaab642a4e",
   "metadata": {},
   "source": [
    "# Fields\n",
    "### Declaring a field"
   ]
  },
  {
   "cell_type": "code",
   "execution_count": 1,
   "id": "fc4fa509-30ee-4fb8-bb6f-3f0e7b7a0467",
   "metadata": {},
   "outputs": [
    {
     "data": {
      "text/plain": [
       "10"
      ]
     },
     "execution_count": 1,
     "metadata": {},
     "output_type": "execute_result"
    }
   ],
   "source": [
    "F = GF(31)\n",
    "F(5) + F(5)   # Outputs F(10)"
   ]
  },
  {
   "cell_type": "code",
   "execution_count": 2,
   "id": "b767fe73-4440-4351-b09b-06ee8f316d77",
   "metadata": {},
   "outputs": [
    {
     "data": {
      "text/plain": [
       "5"
      ]
     },
     "execution_count": 2,
     "metadata": {},
     "output_type": "execute_result"
    }
   ],
   "source": [
    "F(31) + F(5)  # Outputs F(5)"
   ]
  },
  {
   "cell_type": "markdown",
   "id": "66640bcc-550d-4094-be24-ba1b3d133044",
   "metadata": {},
   "source": [
    "# Polynomials\n",
    "### Declaring a polynomial ring"
   ]
  },
  {
   "cell_type": "code",
   "execution_count": 4,
   "id": "ddb5922b-e056-4c20-ad51-6a3be2fc2ce1",
   "metadata": {},
   "outputs": [],
   "source": [
    "R = PolynomialRing(F,'x')\n",
    "x = R.gen()"
   ]
  },
  {
   "cell_type": "code",
   "execution_count": 5,
   "id": "4259ac79-049b-4773-9dc9-e81228e6f800",
   "metadata": {},
   "outputs": [],
   "source": [
    "p = x**2 + 1"
   ]
  },
  {
   "cell_type": "markdown",
   "id": "5466de78-bdc2-4afc-85d4-9049046db353",
   "metadata": {},
   "source": [
    "### Evaluating a polynomial"
   ]
  },
  {
   "cell_type": "code",
   "execution_count": 7,
   "id": "6708e7eb-7222-4ad1-9be7-d9fae7cd7ac2",
   "metadata": {},
   "outputs": [
    {
     "data": {
      "text/plain": [
       "(5, 10)"
      ]
     },
     "execution_count": 7,
     "metadata": {},
     "output_type": "execute_result"
    }
   ],
   "source": [
    "p(2), p(3)"
   ]
  },
  {
   "cell_type": "markdown",
   "id": "1c3578a7-18c9-4d8f-861b-e15afab3b0ec",
   "metadata": {},
   "source": [
    "### Dividing 2 polynomials"
   ]
  },
  {
   "cell_type": "code",
   "execution_count": 9,
   "id": "31901496-83cf-430a-b2c0-a5956f299f60",
   "metadata": {},
   "outputs": [
    {
     "data": {
      "text/plain": [
       "x + 30"
      ]
     },
     "execution_count": 9,
     "metadata": {},
     "output_type": "execute_result"
    }
   ],
   "source": [
    "p // (x + 1) # The result should be (x - 1), or (x + 30), that is the same over F_31."
   ]
  },
  {
   "cell_type": "markdown",
   "id": "5297b8af-0d47-4991-aec2-a35efc437147",
   "metadata": {},
   "source": [
    "#### Interpolating polynomials"
   ]
  },
  {
   "cell_type": "code",
   "execution_count": 12,
   "id": "090748cc-5612-4e7c-b855-de863c1ffed9",
   "metadata": {},
   "outputs": [],
   "source": [
    "q = R.lagrange_polynomial(points=[\n",
    "    (1, 2),\n",
    "    (2, 3),\n",
    "    (3, 2),\n",
    "])"
   ]
  },
  {
   "cell_type": "markdown",
   "id": "2c1bdb89-1641-40e6-ad6b-955923cf8599",
   "metadata": {},
   "source": [
    "# Hashes"
   ]
  },
  {
   "cell_type": "code",
   "execution_count": 22,
   "id": "e7be2d61-f04a-4643-8cb2-10c353ed4600",
   "metadata": {},
   "outputs": [],
   "source": [
    "from hashlib import sha3_256"
   ]
  },
  {
   "cell_type": "code",
   "execution_count": 23,
   "id": "c5febd87-b637-41df-81a8-689c0ddc1fff",
   "metadata": {},
   "outputs": [],
   "source": [
    "hasher = sha3_256()"
   ]
  },
  {
   "cell_type": "code",
   "execution_count": 24,
   "id": "7863a9c6-0016-4978-8a60-ec61d228640b",
   "metadata": {},
   "outputs": [],
   "source": [
    "hasher.update(b\"tuki\")"
   ]
  },
  {
   "cell_type": "code",
   "execution_count": 25,
   "id": "d0dac269-868d-4931-a50e-521da141f52c",
   "metadata": {},
   "outputs": [
    {
     "data": {
      "text/plain": [
       "b'JO\\x86\\x82\\xa1C\\x98\\xacR\\xeb\\xb9F\\x89%\\xa0\\xbc\\x05\\x16\\xca=\\xf4\\x0b\\xd3\\xeb\\xff~\\x14\\xac\\x11\\xd67\\xe4'"
      ]
     },
     "execution_count": 25,
     "metadata": {},
     "output_type": "execute_result"
    }
   ],
   "source": [
    "hasher.digest()"
   ]
  },
  {
   "cell_type": "code",
   "execution_count": 26,
   "id": "0ced35ca-97d6-4a10-913c-766914810313",
   "metadata": {},
   "outputs": [
    {
     "data": {
      "text/plain": [
       "'4a4f8682a14398ac52ebb9468925a0bc0516ca3df40bd3ebff7e14ac11d637e4'"
      ]
     },
     "execution_count": 26,
     "metadata": {},
     "output_type": "execute_result"
    }
   ],
   "source": [
    "hasher.hexdigest()"
   ]
  }
 ],
 "metadata": {
  "kernelspec": {
   "display_name": "SageMath 10.3",
   "language": "sage",
   "name": "sagemath"
  },
  "language_info": {
   "codemirror_mode": {
    "name": "ipython",
    "version": 3
   },
   "file_extension": ".py",
   "mimetype": "text/x-python",
   "name": "python",
   "nbconvert_exporter": "python",
   "pygments_lexer": "ipython3",
   "version": "3.11.1"
  }
 },
 "nbformat": 4,
 "nbformat_minor": 5
}
